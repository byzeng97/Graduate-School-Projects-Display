{
 "cells": [
  {
   "cell_type": "markdown",
   "metadata": {},
   "source": [
    "# Q&A GOOGLE QUEST PROJECT | GROUP 2\n",
    "**Text Analytics | Prof Evan**\n",
    "\n",
    "**Group Members:** Tram Ngoc Le, Yanqi Shi, Annuo Qian, Xuejun Shen, Bing Yue Zheng\n",
    "\n",
    "## Part 2: Q&A Category Classification\n",
    "\n",
    "In Q&A Type Classification part, Google questions are classified into **10 types** and Google answers are classified into **4 types**, by application of supervised machine learning technique along with text analytics. \n",
    "\n",
    "Since the test data set provided by Kaggle do not provide the probabilities scores of each types, we could not generate the labels for the target. In this case, we will parition our pre-processed train data set with labels into \n",
    "\n",
    "Our target variable for question is **question_target_mixed** and our target variable for answer is **answer_target_mixed**\n",
    "\n",
    "We assigned the labels by using the highest probabilities score from each question type variables. If the observation contains more than one highest score, we label that obersvation as mixed type.\n",
    "\n",
    "\n",
    "The process of the methodology implementation are set up as below:\n",
    "\n",
    "- **Step 1. Preliminary steps**  - Set up packages | Load Text | Initial exploratory | Text Preprocessing\n",
    "- **Step 2. Text Preprocessing** - Stopwords Removal, Stemming, Lowercase, ...etc\n",
    "- **Step 3. Feature Engineering**  - TFIDF features\n",
    "- **Step 4. Oversampling** - Handle unbalanced class problem with TFIDF features\n",
    "- **Step 5. Model Building** - SVM | Naive Bayes |\n",
    "- **Step 6. Model Selection** - Model Comparison & Selection - Metrics: Accuracy rate on training data\n",
    "- **Step 7. Model Evaluation** - Metrics: Accuracy, F1 Score, Precision Score, Recall Score\n",
    "- **Step 8. TensorFlow | LSTM** - Feature Encoder | Fit Model | Evaluate Model\n",
    "- **Step 9. Conclusion**\n",
    "- **Appendix** - Evaluate other features + models that were tried before the best features and best models are created \n",
    "- **Reference**\n",
    "**Note**: *Questions and Answers are categorized seperately*\n",
    "# ___\n",
    "## Step 1: Preliminary Steps\n",
    "\n",
    "### Setup required packages/libraries "
   ]
  },
  {
   "cell_type": "code",
   "execution_count": 2,
   "metadata": {},
   "outputs": [],
   "source": [
    "import pandas as pd\n",
    "import numpy as np\n",
    "import nltk\n",
    "import re\n",
    "from sklearn.model_selection import train_test_split\n",
    "from sklearn.model_selection import cross_val_score\n",
    "import seaborn as sns\n",
    "%matplotlib inline\n",
    "import matplotlib\n",
    "import matplotlib.pyplot as plt"
   ]
  },
  {
   "cell_type": "markdown",
   "metadata": {},
   "source": [
    "### Load Data & Initial data exploring"
   ]
  },
  {
   "cell_type": "code",
   "execution_count": 17,
   "metadata": {},
   "outputs": [],
   "source": [
    "# Load preprocess data\n",
    "df = pd.read_csv(\"type_train.csv\")"
   ]
  },
  {
   "cell_type": "markdown",
   "metadata": {},
   "source": [
    "### ` Question `"
   ]
  },
  {
   "cell_type": "code",
   "execution_count": 18,
   "metadata": {},
   "outputs": [
    {
     "data": {
      "text/html": [
       "<div>\n",
       "<style scoped>\n",
       "    .dataframe tbody tr th:only-of-type {\n",
       "        vertical-align: middle;\n",
       "    }\n",
       "\n",
       "    .dataframe tbody tr th {\n",
       "        vertical-align: top;\n",
       "    }\n",
       "\n",
       "    .dataframe thead th {\n",
       "        text-align: right;\n",
       "    }\n",
       "</style>\n",
       "<table border=\"1\" class=\"dataframe\">\n",
       "  <thead>\n",
       "    <tr style=\"text-align: right;\">\n",
       "      <th></th>\n",
       "      <th>qa_id</th>\n",
       "      <th>question_title</th>\n",
       "      <th>question_body</th>\n",
       "      <th>question_type_choice</th>\n",
       "      <th>question_type_compare</th>\n",
       "      <th>question_type_consequence</th>\n",
       "      <th>question_type_definition</th>\n",
       "      <th>question_type_entity</th>\n",
       "      <th>question_type_instructions</th>\n",
       "      <th>question_type_procedure</th>\n",
       "      <th>question_type_reason_explanation</th>\n",
       "      <th>question_type_spelling</th>\n",
       "      <th>question_target_mix</th>\n",
       "      <th>question_target_detailed</th>\n",
       "    </tr>\n",
       "  </thead>\n",
       "  <tbody>\n",
       "    <tr>\n",
       "      <td>0</td>\n",
       "      <td>0</td>\n",
       "      <td>What am I losing when using extension tubes in...</td>\n",
       "      <td>After playing around with macro photography on...</td>\n",
       "      <td>0.000000</td>\n",
       "      <td>0.000000</td>\n",
       "      <td>0.0</td>\n",
       "      <td>0.000000</td>\n",
       "      <td>0.0</td>\n",
       "      <td>1.0</td>\n",
       "      <td>0.000000</td>\n",
       "      <td>0.000000</td>\n",
       "      <td>0.0</td>\n",
       "      <td>question_type_instructions</td>\n",
       "      <td>question_type_instructions</td>\n",
       "    </tr>\n",
       "    <tr>\n",
       "      <td>1</td>\n",
       "      <td>1</td>\n",
       "      <td>What is the distinction between a city and a s...</td>\n",
       "      <td>I am trying to understand what kinds of places...</td>\n",
       "      <td>0.666667</td>\n",
       "      <td>0.666667</td>\n",
       "      <td>0.0</td>\n",
       "      <td>0.333333</td>\n",
       "      <td>0.0</td>\n",
       "      <td>0.0</td>\n",
       "      <td>0.000000</td>\n",
       "      <td>0.333333</td>\n",
       "      <td>0.0</td>\n",
       "      <td>question_type_mixed</td>\n",
       "      <td>question_type_choice, question_type_compare</td>\n",
       "    </tr>\n",
       "    <tr>\n",
       "      <td>2</td>\n",
       "      <td>2</td>\n",
       "      <td>Maximum protusion length for through-hole comp...</td>\n",
       "      <td>I'm working on a PCB that has through-hole com...</td>\n",
       "      <td>0.000000</td>\n",
       "      <td>0.000000</td>\n",
       "      <td>0.0</td>\n",
       "      <td>0.000000</td>\n",
       "      <td>0.0</td>\n",
       "      <td>1.0</td>\n",
       "      <td>0.333333</td>\n",
       "      <td>0.333333</td>\n",
       "      <td>0.0</td>\n",
       "      <td>question_type_instructions</td>\n",
       "      <td>question_type_instructions</td>\n",
       "    </tr>\n",
       "    <tr>\n",
       "      <td>3</td>\n",
       "      <td>3</td>\n",
       "      <td>Can an affidavit be used in Beit Din?</td>\n",
       "      <td>An affidavit, from what i understand, is basic...</td>\n",
       "      <td>1.000000</td>\n",
       "      <td>0.000000</td>\n",
       "      <td>0.0</td>\n",
       "      <td>0.000000</td>\n",
       "      <td>0.0</td>\n",
       "      <td>0.0</td>\n",
       "      <td>0.000000</td>\n",
       "      <td>0.000000</td>\n",
       "      <td>0.0</td>\n",
       "      <td>question_type_choice</td>\n",
       "      <td>question_type_choice</td>\n",
       "    </tr>\n",
       "    <tr>\n",
       "      <td>4</td>\n",
       "      <td>5</td>\n",
       "      <td>How do you make a binary image in Photoshop?</td>\n",
       "      <td>I am trying to make a binary image. I want mor...</td>\n",
       "      <td>0.000000</td>\n",
       "      <td>0.000000</td>\n",
       "      <td>0.0</td>\n",
       "      <td>0.000000</td>\n",
       "      <td>0.0</td>\n",
       "      <td>1.0</td>\n",
       "      <td>0.000000</td>\n",
       "      <td>1.000000</td>\n",
       "      <td>0.0</td>\n",
       "      <td>question_type_mixed</td>\n",
       "      <td>question_type_instructions, question_type_reas...</td>\n",
       "    </tr>\n",
       "  </tbody>\n",
       "</table>\n",
       "</div>"
      ],
      "text/plain": [
       "   qa_id                                     question_title  \\\n",
       "0      0  What am I losing when using extension tubes in...   \n",
       "1      1  What is the distinction between a city and a s...   \n",
       "2      2  Maximum protusion length for through-hole comp...   \n",
       "3      3              Can an affidavit be used in Beit Din?   \n",
       "4      5       How do you make a binary image in Photoshop?   \n",
       "\n",
       "                                       question_body  question_type_choice  \\\n",
       "0  After playing around with macro photography on...              0.000000   \n",
       "1  I am trying to understand what kinds of places...              0.666667   \n",
       "2  I'm working on a PCB that has through-hole com...              0.000000   \n",
       "3  An affidavit, from what i understand, is basic...              1.000000   \n",
       "4  I am trying to make a binary image. I want mor...              0.000000   \n",
       "\n",
       "   question_type_compare  question_type_consequence  question_type_definition  \\\n",
       "0               0.000000                        0.0                  0.000000   \n",
       "1               0.666667                        0.0                  0.333333   \n",
       "2               0.000000                        0.0                  0.000000   \n",
       "3               0.000000                        0.0                  0.000000   \n",
       "4               0.000000                        0.0                  0.000000   \n",
       "\n",
       "   question_type_entity  question_type_instructions  question_type_procedure  \\\n",
       "0                   0.0                         1.0                 0.000000   \n",
       "1                   0.0                         0.0                 0.000000   \n",
       "2                   0.0                         1.0                 0.333333   \n",
       "3                   0.0                         0.0                 0.000000   \n",
       "4                   0.0                         1.0                 0.000000   \n",
       "\n",
       "   question_type_reason_explanation  question_type_spelling  \\\n",
       "0                          0.000000                     0.0   \n",
       "1                          0.333333                     0.0   \n",
       "2                          0.333333                     0.0   \n",
       "3                          0.000000                     0.0   \n",
       "4                          1.000000                     0.0   \n",
       "\n",
       "          question_target_mix  \\\n",
       "0  question_type_instructions   \n",
       "1         question_type_mixed   \n",
       "2  question_type_instructions   \n",
       "3        question_type_choice   \n",
       "4         question_type_mixed   \n",
       "\n",
       "                            question_target_detailed  \n",
       "0                         question_type_instructions  \n",
       "1        question_type_choice, question_type_compare  \n",
       "2                         question_type_instructions  \n",
       "3                               question_type_choice  \n",
       "4  question_type_instructions, question_type_reas...  "
      ]
     },
     "execution_count": 18,
     "metadata": {},
     "output_type": "execute_result"
    }
   ],
   "source": [
    "# Saving QUESTION info into different dataframe\n",
    "df_question = df[['qa_id', 'question_title','question_body','question_type_choice',\n",
    "       'question_type_compare', 'question_type_consequence',\n",
    "       'question_type_definition', 'question_type_entity',\n",
    "       'question_type_instructions', 'question_type_procedure',\n",
    "       'question_type_reason_explanation', 'question_type_spelling','question_target_mix',\n",
    "       'question_target_detailed' ]]\n",
    "df_question.head()"
   ]
  },
  {
   "cell_type": "code",
   "execution_count": 19,
   "metadata": {},
   "outputs": [
    {
     "name": "stdout",
     "output_type": "stream",
     "text": [
      "Observation Distribution of 10  Questions Types (%):\n",
      "question_type_instructions          36.34\n",
      "question_type_mixed                 23.49\n",
      "question_type_reason_explanation    19.10\n",
      "question_type_choice                11.71\n",
      "question_type_entity                 3.08\n",
      "question_type_procedure              2.83\n",
      "question_type_definition             1.56\n",
      "question_type_compare                1.53\n",
      "question_type_consequence            0.33\n",
      "question_type_spelling               0.03\n",
      "Name: question_target_mix, dtype: float64\n"
     ]
    },
    {
     "data": {
      "text/plain": [
       "Text(0.5, 1.0, 'Observations Distribution of Classes')"
      ]
     },
     "execution_count": 19,
     "metadata": {},
     "output_type": "execute_result"
    },
    {
     "data": {
      "image/png": "[encoded data removed]",
      "text/plain": [
       "<Figure size 1800x576 with 1 Axes>"
      ]
     },
     "metadata": {
      "needs_background": "light"
     },
     "output_type": "display_data"
    }
   ],
   "source": [
    "# See distribution of observations between target\n",
    "print(\"Observation Distribution of\", len(df_question.question_target_mix.unique()) ,\" Questions Types (%):\")\n",
    "print(round((df_question.question_target_mix.value_counts()/len(df_question.question_target_mix))*100,2))\n",
    "# Create a bar chat of distribution of observations for each class\n",
    "plt.figure(figsize=(25,8))\n",
    "sns.countplot(x=\"question_target_mix\", data=df_question, palette=\"Set2\", saturation = 1).set_title(\"Observations Distribution of Classes\")"
   ]
  },
  {
   "cell_type": "code",
   "execution_count": 20,
   "metadata": {},
   "outputs": [
    {
     "name": "stderr",
     "output_type": "stream",
     "text": [
      "C:\\Users\\Jennie\\Anaconda3\\lib\\site-packages\\ipykernel_launcher.py:2: SettingWithCopyWarning: \n",
      "A value is trying to be set on a copy of a slice from a DataFrame.\n",
      "Try using .loc[row_indexer,col_indexer] = value instead\n",
      "\n",
      "See the caveats in the documentation: http://pandas.pydata.org/pandas-docs/stable/user_guide/indexing.html#returning-a-view-versus-a-copy\n",
      "  \n"
     ]
    },
    {
     "data": {
      "text/plain": [
       "{0: 'question_type_instructions',\n",
       " 1: 'question_type_mixed',\n",
       " 2: 'question_type_choice',\n",
       " 3: 'question_type_reason_explanation',\n",
       " 4: 'question_type_entity',\n",
       " 5: 'question_type_definition',\n",
       " 6: 'question_type_compare',\n",
       " 7: 'question_type_procedure',\n",
       " 8: 'question_type_spelling',\n",
       " 9: 'question_type_consequence'}"
      ]
     },
     "execution_count": 20,
     "metadata": {},
     "output_type": "execute_result"
    }
   ],
   "source": [
    "# create question id\n",
    "df_question['question_id']=df_question['question_target_mix'].factorize()[0]\n",
    "question_id_df = df_question[['question_target_mix','question_id']].drop_duplicates().sort_values('question_id')\n",
    "question_to_id = dict(question_id_df.values)\n",
    "id_to_question = dict(question_id_df[['question_id','question_target_mix']].values)\n",
    "df_question.head()\n",
    "id_to_question"
   ]
  },
  {
   "cell_type": "code",
   "execution_count": 21,
   "metadata": {},
   "outputs": [
    {
     "data": {
      "text/html": [
       "<div>\n",
       "<style scoped>\n",
       "    .dataframe tbody tr th:only-of-type {\n",
       "        vertical-align: middle;\n",
       "    }\n",
       "\n",
       "    .dataframe tbody tr th {\n",
       "        vertical-align: top;\n",
       "    }\n",
       "\n",
       "    .dataframe thead th {\n",
       "        text-align: right;\n",
       "    }\n",
       "</style>\n",
       "<table border=\"1\" class=\"dataframe\">\n",
       "  <thead>\n",
       "    <tr style=\"text-align: right;\">\n",
       "      <th></th>\n",
       "      <th>qa_id</th>\n",
       "      <th>question_title</th>\n",
       "      <th>question_body</th>\n",
       "      <th>question_type_choice</th>\n",
       "      <th>question_type_compare</th>\n",
       "      <th>question_type_consequence</th>\n",
       "      <th>question_type_definition</th>\n",
       "      <th>question_type_entity</th>\n",
       "      <th>question_type_instructions</th>\n",
       "      <th>question_type_procedure</th>\n",
       "      <th>question_type_reason_explanation</th>\n",
       "      <th>question_type_spelling</th>\n",
       "      <th>question_target_mix</th>\n",
       "      <th>question_target_detailed</th>\n",
       "      <th>question_id</th>\n",
       "    </tr>\n",
       "  </thead>\n",
       "  <tbody>\n",
       "    <tr>\n",
       "      <td>0</td>\n",
       "      <td>0</td>\n",
       "      <td>What am I losing when using extension tubes in...</td>\n",
       "      <td>After playing around with macro photography on...</td>\n",
       "      <td>0.000000</td>\n",
       "      <td>0.000000</td>\n",
       "      <td>0.0</td>\n",
       "      <td>0.000000</td>\n",
       "      <td>0.0</td>\n",
       "      <td>1.0</td>\n",
       "      <td>0.000000</td>\n",
       "      <td>0.000000</td>\n",
       "      <td>0.0</td>\n",
       "      <td>question_type_instructions</td>\n",
       "      <td>question_type_instructions</td>\n",
       "      <td>0</td>\n",
       "    </tr>\n",
       "    <tr>\n",
       "      <td>1</td>\n",
       "      <td>1</td>\n",
       "      <td>What is the distinction between a city and a s...</td>\n",
       "      <td>I am trying to understand what kinds of places...</td>\n",
       "      <td>0.666667</td>\n",
       "      <td>0.666667</td>\n",
       "      <td>0.0</td>\n",
       "      <td>0.333333</td>\n",
       "      <td>0.0</td>\n",
       "      <td>0.0</td>\n",
       "      <td>0.000000</td>\n",
       "      <td>0.333333</td>\n",
       "      <td>0.0</td>\n",
       "      <td>question_type_mixed</td>\n",
       "      <td>question_type_choice, question_type_compare</td>\n",
       "      <td>1</td>\n",
       "    </tr>\n",
       "    <tr>\n",
       "      <td>2</td>\n",
       "      <td>2</td>\n",
       "      <td>Maximum protusion length for through-hole comp...</td>\n",
       "      <td>I'm working on a PCB that has through-hole com...</td>\n",
       "      <td>0.000000</td>\n",
       "      <td>0.000000</td>\n",
       "      <td>0.0</td>\n",
       "      <td>0.000000</td>\n",
       "      <td>0.0</td>\n",
       "      <td>1.0</td>\n",
       "      <td>0.333333</td>\n",
       "      <td>0.333333</td>\n",
       "      <td>0.0</td>\n",
       "      <td>question_type_instructions</td>\n",
       "      <td>question_type_instructions</td>\n",
       "      <td>0</td>\n",
       "    </tr>\n",
       "    <tr>\n",
       "      <td>3</td>\n",
       "      <td>3</td>\n",
       "      <td>Can an affidavit be used in Beit Din?</td>\n",
       "      <td>An affidavit, from what i understand, is basic...</td>\n",
       "      <td>1.000000</td>\n",
       "      <td>0.000000</td>\n",
       "      <td>0.0</td>\n",
       "      <td>0.000000</td>\n",
       "      <td>0.0</td>\n",
       "      <td>0.0</td>\n",
       "      <td>0.000000</td>\n",
       "      <td>0.000000</td>\n",
       "      <td>0.0</td>\n",
       "      <td>question_type_choice</td>\n",
       "      <td>question_type_choice</td>\n",
       "      <td>2</td>\n",
       "    </tr>\n",
       "    <tr>\n",
       "      <td>4</td>\n",
       "      <td>5</td>\n",
       "      <td>How do you make a binary image in Photoshop?</td>\n",
       "      <td>I am trying to make a binary image. I want mor...</td>\n",
       "      <td>0.000000</td>\n",
       "      <td>0.000000</td>\n",
       "      <td>0.0</td>\n",
       "      <td>0.000000</td>\n",
       "      <td>0.0</td>\n",
       "      <td>1.0</td>\n",
       "      <td>0.000000</td>\n",
       "      <td>1.000000</td>\n",
       "      <td>0.0</td>\n",
       "      <td>question_type_mixed</td>\n",
       "      <td>question_type_instructions, question_type_reas...</td>\n",
       "      <td>1</td>\n",
       "    </tr>\n",
       "  </tbody>\n",
       "</table>\n",
       "</div>"
      ],
      "text/plain": [
       "   qa_id                                     question_title  \\\n",
       "0      0  What am I losing when using extension tubes in...   \n",
       "1      1  What is the distinction between a city and a s...   \n",
       "2      2  Maximum protusion length for through-hole comp...   \n",
       "3      3              Can an affidavit be used in Beit Din?   \n",
       "4      5       How do you make a binary image in Photoshop?   \n",
       "\n",
       "                                       question_body  question_type_choice  \\\n",
       "0  After playing around with macro photography on...              0.000000   \n",
       "1  I am trying to understand what kinds of places...              0.666667   \n",
       "2  I'm working on a PCB that has through-hole com...              0.000000   \n",
       "3  An affidavit, from what i understand, is basic...              1.000000   \n",
       "4  I am trying to make a binary image. I want mor...              0.000000   \n",
       "\n",
       "   question_type_compare  question_type_consequence  question_type_definition  \\\n",
       "0               0.000000                        0.0                  0.000000   \n",
       "1               0.666667                        0.0                  0.333333   \n",
       "2               0.000000                        0.0                  0.000000   \n",
       "3               0.000000                        0.0                  0.000000   \n",
       "4               0.000000                        0.0                  0.000000   \n",
       "\n",
       "   question_type_entity  question_type_instructions  question_type_procedure  \\\n",
       "0                   0.0                         1.0                 0.000000   \n",
       "1                   0.0                         0.0                 0.000000   \n",
       "2                   0.0                         1.0                 0.333333   \n",
       "3                   0.0                         0.0                 0.000000   \n",
       "4                   0.0                         1.0                 0.000000   \n",
       "\n",
       "   question_type_reason_explanation  question_type_spelling  \\\n",
       "0                          0.000000                     0.0   \n",
       "1                          0.333333                     0.0   \n",
       "2                          0.333333                     0.0   \n",
       "3                          0.000000                     0.0   \n",
       "4                          1.000000                     0.0   \n",
       "\n",
       "          question_target_mix  \\\n",
       "0  question_type_instructions   \n",
       "1         question_type_mixed   \n",
       "2  question_type_instructions   \n",
       "3        question_type_choice   \n",
       "4         question_type_mixed   \n",
       "\n",
       "                            question_target_detailed  question_id  \n",
       "0                         question_type_instructions            0  \n",
       "1        question_type_choice, question_type_compare            1  \n",
       "2                         question_type_instructions            0  \n",
       "3                               question_type_choice            2  \n",
       "4  question_type_instructions, question_type_reas...            1  "
      ]
     },
     "execution_count": 21,
     "metadata": {},
     "output_type": "execute_result"
    }
   ],
   "source": [
    "df_question.head()"
   ]
  },
  {
   "cell_type": "markdown",
   "metadata": {},
   "source": [
    "### `Answer`"
   ]
  },
  {
   "cell_type": "code",
   "execution_count": 22,
   "metadata": {},
   "outputs": [
    {
     "data": {
      "text/html": [
       "<div>\n",
       "<style scoped>\n",
       "    .dataframe tbody tr th:only-of-type {\n",
       "        vertical-align: middle;\n",
       "    }\n",
       "\n",
       "    .dataframe tbody tr th {\n",
       "        vertical-align: top;\n",
       "    }\n",
       "\n",
       "    .dataframe thead th {\n",
       "        text-align: right;\n",
       "    }\n",
       "</style>\n",
       "<table border=\"1\" class=\"dataframe\">\n",
       "  <thead>\n",
       "    <tr style=\"text-align: right;\">\n",
       "      <th></th>\n",
       "      <th>answer</th>\n",
       "      <th>answer_type_instructions</th>\n",
       "      <th>answer_type_procedure</th>\n",
       "      <th>answer_type_reason_explanation</th>\n",
       "      <th>answer_target_mix</th>\n",
       "      <th>answer_target_detailed</th>\n",
       "    </tr>\n",
       "  </thead>\n",
       "  <tbody>\n",
       "    <tr>\n",
       "      <td>0</td>\n",
       "      <td>I just got extension tubes, so here's the skin...</td>\n",
       "      <td>1.0</td>\n",
       "      <td>0.000000</td>\n",
       "      <td>0.000000</td>\n",
       "      <td>answer_type_instructions</td>\n",
       "      <td>answer_type_instructions</td>\n",
       "    </tr>\n",
       "    <tr>\n",
       "      <td>1</td>\n",
       "      <td>It might be helpful to look into the definitio...</td>\n",
       "      <td>0.0</td>\n",
       "      <td>0.000000</td>\n",
       "      <td>0.666667</td>\n",
       "      <td>answer_type_reason_explanation</td>\n",
       "      <td>answer_type_reason_explanation</td>\n",
       "    </tr>\n",
       "    <tr>\n",
       "      <td>2</td>\n",
       "      <td>Do you even need grooves?  We make several pro...</td>\n",
       "      <td>0.0</td>\n",
       "      <td>0.333333</td>\n",
       "      <td>1.000000</td>\n",
       "      <td>answer_type_reason_explanation</td>\n",
       "      <td>answer_type_reason_explanation</td>\n",
       "    </tr>\n",
       "    <tr>\n",
       "      <td>3</td>\n",
       "      <td>Sending an \"affidavit\" it is a dispute between...</td>\n",
       "      <td>0.0</td>\n",
       "      <td>0.000000</td>\n",
       "      <td>1.000000</td>\n",
       "      <td>answer_type_reason_explanation</td>\n",
       "      <td>answer_type_reason_explanation</td>\n",
       "    </tr>\n",
       "    <tr>\n",
       "      <td>4</td>\n",
       "      <td>Check out Image Trace in Adobe Illustrator. \\n...</td>\n",
       "      <td>1.0</td>\n",
       "      <td>0.000000</td>\n",
       "      <td>1.000000</td>\n",
       "      <td>answer_type_mixed</td>\n",
       "      <td>answer_type_instructions, answer_type_reason_e...</td>\n",
       "    </tr>\n",
       "  </tbody>\n",
       "</table>\n",
       "</div>"
      ],
      "text/plain": [
       "                                              answer  \\\n",
       "0  I just got extension tubes, so here's the skin...   \n",
       "1  It might be helpful to look into the definitio...   \n",
       "2  Do you even need grooves?  We make several pro...   \n",
       "3  Sending an \"affidavit\" it is a dispute between...   \n",
       "4  Check out Image Trace in Adobe Illustrator. \\n...   \n",
       "\n",
       "   answer_type_instructions  answer_type_procedure  \\\n",
       "0                       1.0               0.000000   \n",
       "1                       0.0               0.000000   \n",
       "2                       0.0               0.333333   \n",
       "3                       0.0               0.000000   \n",
       "4                       1.0               0.000000   \n",
       "\n",
       "   answer_type_reason_explanation               answer_target_mix  \\\n",
       "0                        0.000000        answer_type_instructions   \n",
       "1                        0.666667  answer_type_reason_explanation   \n",
       "2                        1.000000  answer_type_reason_explanation   \n",
       "3                        1.000000  answer_type_reason_explanation   \n",
       "4                        1.000000               answer_type_mixed   \n",
       "\n",
       "                              answer_target_detailed  \n",
       "0                           answer_type_instructions  \n",
       "1                     answer_type_reason_explanation  \n",
       "2                     answer_type_reason_explanation  \n",
       "3                     answer_type_reason_explanation  \n",
       "4  answer_type_instructions, answer_type_reason_e...  "
      ]
     },
     "execution_count": 22,
     "metadata": {},
     "output_type": "execute_result"
    }
   ],
   "source": [
    "# Saving ANSWER info into different dataframe\n",
    "df_answer = df[['answer', 'answer_type_instructions',\n",
    "       'answer_type_procedure', 'answer_type_reason_explanation','answer_target_mix',\n",
    "       'answer_target_detailed' ]]\n",
    "df_answer.head()"
   ]
  },
  {
   "cell_type": "code",
   "execution_count": 23,
   "metadata": {},
   "outputs": [
    {
     "name": "stdout",
     "output_type": "stream",
     "text": [
      "Observation Distribution of 4  Answer Types (%):\n",
      "answer_type_reason_explanation    40.27\n",
      "answer_type_instructions          37.87\n",
      "answer_type_mixed                 18.77\n",
      "answer_type_procedure              3.09\n",
      "Name: answer_target_mix, dtype: float64\n"
     ]
    },
    {
     "data": {
      "text/plain": [
       "Text(0.5, 1.0, 'Distribution of Classes')"
      ]
     },
     "execution_count": 23,
     "metadata": {},
     "output_type": "execute_result"
    },
    {
     "data": {
      "image/png": "[encoded data removed]",
      "text/plain": [
       "<Figure size 792x360 with 1 Axes>"
      ]
     },
     "metadata": {
      "needs_background": "light"
     },
     "output_type": "display_data"
    }
   ],
   "source": [
    "# See distribution of observations between target\n",
    "print(\"Observation Distribution of\", len(df_answer.answer_target_mix.unique()) ,\" Answer Types (%):\")\n",
    "print(round((df_answer.answer_target_mix.value_counts()/len(df_answer.answer_target_mix))*100,2))\n",
    "# Create a bar chat of distribution of observations for each class\n",
    "plt.figure(figsize=(11,5))\n",
    "sns.countplot(x=\"answer_target_mix\", data=df_answer, palette=\"Set2\", saturation = 1).set_title(\"Distribution of Classes\")"
   ]
  },
  {
   "cell_type": "code",
   "execution_count": 24,
   "metadata": {},
   "outputs": [
    {
     "name": "stderr",
     "output_type": "stream",
     "text": [
      "C:\\Users\\Jennie\\Anaconda3\\lib\\site-packages\\ipykernel_launcher.py:1: SettingWithCopyWarning: \n",
      "A value is trying to be set on a copy of a slice from a DataFrame.\n",
      "Try using .loc[row_indexer,col_indexer] = value instead\n",
      "\n",
      "See the caveats in the documentation: http://pandas.pydata.org/pandas-docs/stable/user_guide/indexing.html#returning-a-view-versus-a-copy\n",
      "  \"\"\"Entry point for launching an IPython kernel.\n"
     ]
    },
    {
     "data": {
      "text/plain": [
       "{0: 'answer_type_instructions',\n",
       " 1: 'answer_type_reason_explanation',\n",
       " 2: 'answer_type_mixed',\n",
       " 3: 'answer_type_procedure'}"
      ]
     },
     "execution_count": 24,
     "metadata": {},
     "output_type": "execute_result"
    }
   ],
   "source": [
    "df_answer['answer_id']=df_answer['answer_target_mix'].factorize()[0]\n",
    "answer_id_df = df_answer[['answer_target_mix','answer_id']].drop_duplicates().sort_values('answer_id')\n",
    "answer_to_id = dict(answer_id_df.values)\n",
    "id_to_answer = dict(answer_id_df[['answer_id','answer_target_mix']].values)\n",
    "df_answer.head()\n",
    "id_to_answer"
   ]
  },
  {
   "cell_type": "code",
   "execution_count": 25,
   "metadata": {},
   "outputs": [
    {
     "data": {
      "text/html": [
       "<div>\n",
       "<style scoped>\n",
       "    .dataframe tbody tr th:only-of-type {\n",
       "        vertical-align: middle;\n",
       "    }\n",
       "\n",
       "    .dataframe tbody tr th {\n",
       "        vertical-align: top;\n",
       "    }\n",
       "\n",
       "    .dataframe thead th {\n",
       "        text-align: right;\n",
       "    }\n",
       "</style>\n",
       "<table border=\"1\" class=\"dataframe\">\n",
       "  <thead>\n",
       "    <tr style=\"text-align: right;\">\n",
       "      <th></th>\n",
       "      <th>answer</th>\n",
       "      <th>answer_type_instructions</th>\n",
       "      <th>answer_type_procedure</th>\n",
       "      <th>answer_type_reason_explanation</th>\n",
       "      <th>answer_target_mix</th>\n",
       "      <th>answer_target_detailed</th>\n",
       "      <th>answer_id</th>\n",
       "    </tr>\n",
       "  </thead>\n",
       "  <tbody>\n",
       "    <tr>\n",
       "      <td>0</td>\n",
       "      <td>I just got extension tubes, so here's the skin...</td>\n",
       "      <td>1.0</td>\n",
       "      <td>0.000000</td>\n",
       "      <td>0.000000</td>\n",
       "      <td>answer_type_instructions</td>\n",
       "      <td>answer_type_instructions</td>\n",
       "      <td>0</td>\n",
       "    </tr>\n",
       "    <tr>\n",
       "      <td>1</td>\n",
       "      <td>It might be helpful to look into the definitio...</td>\n",
       "      <td>0.0</td>\n",
       "      <td>0.000000</td>\n",
       "      <td>0.666667</td>\n",
       "      <td>answer_type_reason_explanation</td>\n",
       "      <td>answer_type_reason_explanation</td>\n",
       "      <td>1</td>\n",
       "    </tr>\n",
       "    <tr>\n",
       "      <td>2</td>\n",
       "      <td>Do you even need grooves?  We make several pro...</td>\n",
       "      <td>0.0</td>\n",
       "      <td>0.333333</td>\n",
       "      <td>1.000000</td>\n",
       "      <td>answer_type_reason_explanation</td>\n",
       "      <td>answer_type_reason_explanation</td>\n",
       "      <td>1</td>\n",
       "    </tr>\n",
       "    <tr>\n",
       "      <td>3</td>\n",
       "      <td>Sending an \"affidavit\" it is a dispute between...</td>\n",
       "      <td>0.0</td>\n",
       "      <td>0.000000</td>\n",
       "      <td>1.000000</td>\n",
       "      <td>answer_type_reason_explanation</td>\n",
       "      <td>answer_type_reason_explanation</td>\n",
       "      <td>1</td>\n",
       "    </tr>\n",
       "    <tr>\n",
       "      <td>4</td>\n",
       "      <td>Check out Image Trace in Adobe Illustrator. \\n...</td>\n",
       "      <td>1.0</td>\n",
       "      <td>0.000000</td>\n",
       "      <td>1.000000</td>\n",
       "      <td>answer_type_mixed</td>\n",
       "      <td>answer_type_instructions, answer_type_reason_e...</td>\n",
       "      <td>2</td>\n",
       "    </tr>\n",
       "  </tbody>\n",
       "</table>\n",
       "</div>"
      ],
      "text/plain": [
       "                                              answer  \\\n",
       "0  I just got extension tubes, so here's the skin...   \n",
       "1  It might be helpful to look into the definitio...   \n",
       "2  Do you even need grooves?  We make several pro...   \n",
       "3  Sending an \"affidavit\" it is a dispute between...   \n",
       "4  Check out Image Trace in Adobe Illustrator. \\n...   \n",
       "\n",
       "   answer_type_instructions  answer_type_procedure  \\\n",
       "0                       1.0               0.000000   \n",
       "1                       0.0               0.000000   \n",
       "2                       0.0               0.333333   \n",
       "3                       0.0               0.000000   \n",
       "4                       1.0               0.000000   \n",
       "\n",
       "   answer_type_reason_explanation               answer_target_mix  \\\n",
       "0                        0.000000        answer_type_instructions   \n",
       "1                        0.666667  answer_type_reason_explanation   \n",
       "2                        1.000000  answer_type_reason_explanation   \n",
       "3                        1.000000  answer_type_reason_explanation   \n",
       "4                        1.000000               answer_type_mixed   \n",
       "\n",
       "                              answer_target_detailed  answer_id  \n",
       "0                           answer_type_instructions          0  \n",
       "1                     answer_type_reason_explanation          1  \n",
       "2                     answer_type_reason_explanation          1  \n",
       "3                     answer_type_reason_explanation          1  \n",
       "4  answer_type_instructions, answer_type_reason_e...          2  "
      ]
     },
     "execution_count": 25,
     "metadata": {},
     "output_type": "execute_result"
    }
   ],
   "source": [
    "df_answer.head()"
   ]
  },
  {
   "cell_type": "markdown",
   "metadata": {},
   "source": [
    "- Preprocessing Text"
   ]
  },
  {
   "cell_type": "markdown",
   "metadata": {},
   "source": [
    "## Step 2: Text Preprocessing\n",
    "\n",
    "- Remove Stopwords\n",
    "- Stemming\n",
    "- Lowercase\n",
    "- Remove some non-alphabet label"
   ]
  },
  {
   "cell_type": "code",
   "execution_count": 26,
   "metadata": {},
   "outputs": [],
   "source": [
    "from nltk.corpus import stopwords\n",
    "# Define preprocessing function \n",
    "def preprocessing_text(text):\n",
    "    # Stopwords Removal\n",
    "    my_stopwords = stopwords.words('english')\n",
    "    # Stemming\n",
    "    wnl = nltk.WordNetLemmatizer()\n",
    "    tag_remove = re.compile(r'<[^>]+>')\n",
    "    text = tag_remove.sub('',text)\n",
    "    # tokenization\n",
    "    tokens = nltk.word_tokenize(text)\n",
    "    # alphabet / lowercase / stopwords removal\n",
    "    words = [w.lower() for w in tokens if w.isalpha if w.lower() not in my_stopwords]\n",
    "    stem = [wnl.lemmatize(w) for w in words]\n",
    "    clean_text = ' '.join(w for w in stem)\n",
    "    #clean_text = clean_text.replace(\"``\",\"\")\n",
    "    return clean_text"
   ]
  },
  {
   "cell_type": "code",
   "execution_count": 27,
   "metadata": {},
   "outputs": [
    {
     "name": "stderr",
     "output_type": "stream",
     "text": [
      "C:\\Users\\Jennie\\Anaconda3\\lib\\site-packages\\ipykernel_launcher.py:2: SettingWithCopyWarning: \n",
      "A value is trying to be set on a copy of a slice from a DataFrame.\n",
      "Try using .loc[row_indexer,col_indexer] = value instead\n",
      "\n",
      "See the caveats in the documentation: http://pandas.pydata.org/pandas-docs/stable/user_guide/indexing.html#returning-a-view-versus-a-copy\n",
      "  \n",
      "C:\\Users\\Jennie\\Anaconda3\\lib\\site-packages\\ipykernel_launcher.py:4: SettingWithCopyWarning: \n",
      "A value is trying to be set on a copy of a slice from a DataFrame.\n",
      "Try using .loc[row_indexer,col_indexer] = value instead\n",
      "\n",
      "See the caveats in the documentation: http://pandas.pydata.org/pandas-docs/stable/user_guide/indexing.html#returning-a-view-versus-a-copy\n",
      "  after removing the cwd from sys.path.\n"
     ]
    }
   ],
   "source": [
    "# Preprocess QUESTION\n",
    "df_question['question_body'] = df_question['question_body'].apply(lambda x:preprocessing_text(x))\n",
    "# Preprocess ANSWER\n",
    "df_answer['answer'] = df_answer['answer'].apply(lambda x:preprocessing_text(x))"
   ]
  },
  {
   "cell_type": "markdown",
   "metadata": {},
   "source": [
    "- Partition Data into 80-20"
   ]
  },
  {
   "cell_type": "code",
   "execution_count": 32,
   "metadata": {},
   "outputs": [],
   "source": [
    "# Split the data 80-20\n",
    "# Question\n",
    "train_question, test_question, train_question_labels, test_question_labels, train_question_id, test_question_id = train_test_split(df_question.question_body,\n",
    "                                                                                                                                  df_question.question_target_mix,\n",
    "                                                                                                                                  df_question.question_id,\n",
    "                                                                                                                                  test_size=0.2)\n",
    "# Answer\n",
    "train_answer, test_answer, train_answer_labels, test_answer_labels, train_answer_id, test_answer_id = train_test_split(df_answer.answer,\n",
    "                                                                                                                       df_answer.answer_target_mix,\n",
    "                                                                                                                       df_answer.answer_id,\n",
    "                                                                                                                       test_size=0.2)"
   ]
  },
  {
   "cell_type": "markdown",
   "metadata": {},
   "source": [
    "## Step 3: Feature Engineering"
   ]
  },
  {
   "cell_type": "code",
   "execution_count": 33,
   "metadata": {},
   "outputs": [],
   "source": [
    "from sklearn.feature_extraction.text import TfidfVectorizer \n",
    "tfidf_vectorizer = TfidfVectorizer(sublinear_tf=True, # use logarithmic form for frequency\n",
    "                                    min_df=1, # The minimum numbers of document a word must be present to be kept\n",
    "                                  norm='l2', # Ensure all features vectors have a eulicidean norm of 1\n",
    "                                  encoding='latin-1',\n",
    "                                   smooth_idf=True,\n",
    "                                   use_idf=True,\n",
    "                                   #lowercase=True, #Lowercase\n",
    "                                   #stop_words=stopwords, # Stopword Removal\n",
    "                                  ngram_range=(1,2)) #unigram and bigram\n",
    "\n",
    "# QUESTION - TFIDF\n",
    "tfidf_train_question = tfidf_vectorizer.fit_transform(train_question)\n",
    "tfidf_test_question = tfidf_vectorizer.transform(test_question)\n",
    "\n",
    "# ANSWER - TFIDF\n",
    "tfidf_train_answer = tfidf_vectorizer.fit_transform(train_answer)\n",
    "tfidf_test_answer = tfidf_vectorizer.transform(test_answer) "
   ]
  },
  {
   "cell_type": "code",
   "execution_count": 34,
   "metadata": {},
   "outputs": [
    {
     "name": "stdout",
     "output_type": "stream",
     "text": [
      "# 'question_type_choice':\n",
      "  . Most correlated unigrams:\n",
      ". carpenter\n",
      ". visa\n",
      ". technician\n",
      ". shaped\n",
      "  . Most correlated bigrams:\n",
      ". 128 bit\n",
      ". link site\n",
      ". far good\n",
      ". star shaped\n",
      "# 'question_type_compare':\n",
      "  . Most correlated unigrams:\n",
      ". creole\n",
      ". cajun\n",
      ". cuisine\n",
      ". difference\n",
      "  . Most correlated bigrams:\n",
      ". without energy\n",
      ". difference cajun\n",
      ". creole cuisine\n",
      ". cajun creole\n",
      "# 'question_type_consequence':\n",
      "  . Most correlated unigrams:\n",
      ". minipet\n",
      ". galvanized\n",
      ". moc\n",
      ". monument\n",
      "  . Most correlated bigrams:\n",
      ". str checked\n",
      ". disk cache\n",
      ". bad practice\n",
      ". hall monument\n",
      "# 'question_type_definition':\n",
      "  . Most correlated unigrams:\n",
      ". thief\n",
      ". kleptocracy\n",
      ". criminal\n",
      ". solo\n",
      "  . Most correlated bigrams:\n",
      ". google quite\n",
      ". solo spot\n",
      ". think solo\n",
      ". spot meaning\n",
      "# 'question_type_entity':\n",
      "  . Most correlated unigrams:\n",
      ". textbook\n",
      ". introductory\n",
      ". statistic\n",
      ". bayesian\n",
      "  . Most correlated bigrams:\n",
      ". best introductory\n",
      ". textbook bayesian\n",
      ". answer please\n",
      ". statistic one\n",
      "# 'question_type_instructions':\n",
      "  . Most correlated unigrams:\n",
      ". file\n",
      ". lt\n",
      ". want\n",
      ". gt\n",
      "  . Most correlated bigrams:\n",
      ". script html\n",
      ". lt href\n",
      ". right click\n",
      ". gt lt\n",
      "# 'question_type_mixed':\n",
      "  . Most correlated unigrams:\n",
      ". fish\n",
      ". internship\n",
      ". convey\n",
      ". villain\n",
      "  . Most correlated bigrams:\n",
      ". using apt\n",
      ". convey meaning\n",
      ". multiple package\n",
      ". social security\n",
      "# 'question_type_procedure':\n",
      "  . Most correlated unigrams:\n",
      ". colleague\n",
      ". brewer\n",
      ". gomel\n",
      ". qa\n",
      "  . Most correlated bigrams:\n",
      ". fix bug\n",
      ". torah service\n",
      ". good relationship\n",
      ". tell manager\n",
      "# 'question_type_reason_explanation':\n",
      "  . Most correlated unigrams:\n",
      ". harry\n",
      ". reason\n",
      ". purple\n",
      ". electron\n",
      "  . Most correlated bigrams:\n",
      ". something resistor\n",
      ". key signature\n",
      ". always use\n",
      ". turn purple\n",
      "# 'question_type_spelling':\n",
      "  . Most correlated unigrams:\n",
      ". tuh\n",
      ". hirable\n",
      ". tome\n",
      ". epi\n",
      "  . Most correlated bigrams:\n",
      ". tome like\n",
      ". tuh mi\n",
      ". also pronunciation\n",
      ". pronunciation purely\n"
     ]
    }
   ],
   "source": [
    "# Find terms that are most related with each type - Question\n",
    "features = tfidf_vectorizer.fit_transform(train_question).toarray()\n",
    "labels = train_question_id\n",
    "from sklearn.feature_selection import chi2\n",
    "N = 4\n",
    "for question_target_mixed, question_id in sorted(question_to_id.items()):\n",
    "    features_chi2 = chi2(features, labels == question_id)\n",
    "    indices = np.argsort(features_chi2[0])\n",
    "    feature_names = np.array(tfidf_vectorizer.get_feature_names())[indices]\n",
    "    unigrams = [v for v in feature_names if len(v.split(' ')) == 1]\n",
    "    bigrams = [v for v in feature_names if len(v.split(' ')) == 2]\n",
    "    print(\"# '{}':\".format(question_target_mixed))\n",
    "    print(\"  . Most correlated unigrams:\\n. {}\".format('\\n. '.join(unigrams[-N:])))\n",
    "    print(\"  . Most correlated bigrams:\\n. {}\".format('\\n. '.join(bigrams[-N:])))"
   ]
  },
  {
   "cell_type": "code",
   "execution_count": 117,
   "metadata": {},
   "outputs": [
    {
     "name": "stdout",
     "output_type": "stream",
     "text": [
      "# 'answer_type_instructions':\n",
      "  . Most correlated unigrams:\n",
      ". array\n",
      ". id\n",
      ". lt\n",
      ". gt\n",
      "  . Most correlated bigrams:\n",
      ". end document\n",
      ". lt gt\n",
      ". lt div\n",
      ". gt lt\n",
      "# 'answer_type_mixed':\n",
      "  . Most correlated unigrams:\n",
      ". untap\n",
      ". ability\n",
      ". visa\n",
      ". yes\n",
      "  . Most correlated bigrams:\n",
      ". see tweet\n",
      ". move something\n",
      ". something meter\n",
      ". work ability\n",
      "# 'answer_type_procedure':\n",
      "  . Most correlated unigrams:\n",
      ". energy\n",
      ". orbitals\n",
      ". god\n",
      ". electron\n",
      "  . Most correlated bigrams:\n",
      ". order column\n",
      ". org abs\n",
      ". arxiv org\n",
      ". http arxiv\n",
      "# 'answer_type_reason_explanation':\n",
      "  . Most correlated unigrams:\n",
      ". villain\n",
      ". datepicker\n",
      ". rsync\n",
      ". entry_date\n",
      "  . Most correlated bigrams:\n",
      ". could always\n",
      ". children familyid\n",
      ". word looking\n",
      ". caml query\n"
     ]
    }
   ],
   "source": [
    "# Find terms that are most related with each type - Answer\n",
    "features = tfidf_vectorizer.fit_transform(train_answer).toarray()\n",
    "labels = train_answer_id\n",
    "from sklearn.feature_selection import chi2\n",
    "N = 4\n",
    "for answer_target_mixed, answer_id in sorted(answer_to_id.items()):\n",
    "    features_chi2 = chi2(features, labels == answer_id)\n",
    "    indices = np.argsort(features_chi2[0])\n",
    "    feature_names = np.array(tfidf_vectorizer.get_feature_names())[indices]\n",
    "    unigrams = [v for v in feature_names if len(v.split(' ')) == 1]\n",
    "    bigrams = [v for v in feature_names if len(v.split(' ')) == 2]\n",
    "    print(\"# '{}':\".format(answer_target_mixed))\n",
    "    print(\"  . Most correlated unigrams:\\n. {}\".format('\\n. '.join(unigrams[-N:])))\n",
    "    print(\"  . Most correlated bigrams:\\n. {}\".format('\\n. '.join(bigrams[-N:])))\n",
    "    "
   ]
  },
  {
   "cell_type": "markdown",
   "metadata": {},
   "source": [
    "## Step 4: Over Sampling\n",
    "\n",
    "### `Note`\n",
    "\n",
    "Since we don't have enough data for multiple classes, especially the spelling data, sometimes, the SMOTE function will not run. You will have to go back and partition data again in order for SMOTE to run to resampling our data. Observation for certain types are extremely low, which is causing the problem here with the code. However, try to rerun it a few times if it won't work, it will work at some point"
   ]
  },
  {
   "cell_type": "code",
   "execution_count": 35,
   "metadata": {},
   "outputs": [],
   "source": [
    "# Using SMOTE to oversampling the data\n",
    "#from collections import Counter\n",
    "from imblearn.over_sampling import SMOTE\n",
    "sm = SMOTE(random_state=42, k_neighbors=1)\n",
    "resampled_train_question, resampled_train_question_labels = sm.fit_resample(tfidf_train_question, train_question_id)\n",
    "resampled_train_answer, resampled_train_answer_labels = sm.fit_resample(tfidf_train_answer, train_answer_id)"
   ]
  },
  {
   "cell_type": "code",
   "execution_count": 37,
   "metadata": {},
   "outputs": [
    {
     "data": {
      "text/plain": [
       "4863"
      ]
     },
     "execution_count": 37,
     "metadata": {},
     "output_type": "execute_result"
    }
   ],
   "source": [
    "len(train_answer_labels)"
   ]
  },
  {
   "cell_type": "code",
   "execution_count": 39,
   "metadata": {},
   "outputs": [
    {
     "data": {
      "text/plain": [
       "<7896x319716 sparse matrix of type '<class 'numpy.float64'>'\n",
       "\twith 1327492 stored elements in Compressed Sparse Row format>"
      ]
     },
     "execution_count": 39,
     "metadata": {},
     "output_type": "execute_result"
    }
   ],
   "source": [
    "resampled_train_answer"
   ]
  },
  {
   "cell_type": "markdown",
   "metadata": {},
   "source": [
    "## Step 5: Model Building\n",
    "\n",
    "### `Define Matrix For Evaluation`"
   ]
  },
  {
   "cell_type": "code",
   "execution_count": 40,
   "metadata": {},
   "outputs": [],
   "source": [
    "from sklearn import metrics\n",
    "\n",
    "# define a function to evaluate our classification models based on four metrics\n",
    "\n",
    "def get_metrics(true_labels, predicted_labels):\n",
    "    \n",
    "    print('Accuracy:', np.round(metrics.accuracy_score(true_labels,\n",
    "                                                     predicted_labels),5)) \n",
    "    print('Precision:', np.round(metrics.precision_score(true_labels,\n",
    "                                                       predicted_labels,\n",
    "                                                        average='weighted',\n",
    "                                                        zero_division=1),5)) # average parameter is required for multiclass target multiple labels\n",
    "    print('Recall:', np.round(metrics.recall_score(true_labels, \n",
    "                                                   predicted_labels,\n",
    "                                                   #pos_label = 'positive',\n",
    "                                                  average='weighted',\n",
    "                                                  zero_division=1),5)) # average parameter is required for multiclass target multiple labels\n",
    "    print('F1 Score:',np.round(metrics.f1_score(true_labels,\n",
    "                                               predicted_labels,\n",
    "                                                #pos_label='positive',\n",
    "                                               average='weighted',\n",
    "                                               zero_division=1),5)) # average parameter is required for multiclass target multiple labels"
   ]
  },
  {
   "cell_type": "markdown",
   "metadata": {},
   "source": [
    "### `Define How To Train & Evaluate Classifiers`"
   ]
  },
  {
   "cell_type": "code",
   "execution_count": 41,
   "metadata": {},
   "outputs": [],
   "source": [
    "# Define a function that trains the model, performs predictions and evaluates the predictions\n",
    "def train_predict_evaluate_model(classifier,\n",
    "                                train_features, train_labels,\n",
    "                                 test_features, test_labels):\n",
    "    # Build model\n",
    "    classifier.fit(train_features, train_labels)\n",
    "    # Predict using model\n",
    "    predictions = classifier.predict(test_features)\n",
    "    # Evaluate model prediction performance\n",
    "    get_metrics(true_labels=test_labels,\n",
    "               predicted_labels=predictions)\n",
    "    return predictions"
   ]
  },
  {
   "cell_type": "markdown",
   "metadata": {},
   "source": [
    "### `Define the Models`"
   ]
  },
  {
   "cell_type": "code",
   "execution_count": 42,
   "metadata": {},
   "outputs": [],
   "source": [
    "from sklearn.naive_bayes import MultinomialNB # Naive Bayes \n",
    "from sklearn.linear_model import SGDClassifier # Support Vector Machine (SDG)\n",
    "#from sklearn.multiclass import OneVsRestClassifier # Ensembling\n",
    "# Naive Bayes\n",
    "mnb = MultinomialNB()\n",
    "# SVM SDG\n",
    "svm = SGDClassifier(loss='hinge', max_iter=100)"
   ]
  },
  {
   "cell_type": "markdown",
   "metadata": {},
   "source": [
    "## Step 6: Model Selection\n",
    "\n",
    "### `Question | Model Selection | SVM vs Naive Bayes `"
   ]
  },
  {
   "cell_type": "code",
   "execution_count": 395,
   "metadata": {},
   "outputs": [
    {
     "data": {
      "image/png": "[encoded data removed]",
      "text/plain": [
       "<Figure size 648x432 with 1 Axes>"
      ]
     },
     "metadata": {
      "needs_background": "light"
     },
     "output_type": "display_data"
    },
    {
     "data": {
      "text/plain": [
       "model name\n",
       "MultinomialNB    0.877728\n",
       "SGDClassifier    0.891973\n",
       "Name: accuracy, dtype: float64"
      ]
     },
     "execution_count": 395,
     "metadata": {},
     "output_type": "execute_result"
    }
   ],
   "source": [
    "# resampled_train_question, resampled_train_question_labels\n",
    "# Set up\n",
    "models = [mnb, svm]\n",
    "cross_validation = 5 # 5-fold cross validation\n",
    "cv_tfidf = pd.DataFrame(index=range(cross_validation*len(models)))\n",
    "entry = []\n",
    "for model in models:\n",
    "    model_name = model.__class__.__name__\n",
    "    accuracies = cross_val_score(model,resampled_train_question,resampled_train_question_labels,scoring='accuracy',cv=cross_validation)\n",
    "    for fold_index, accuracy in enumerate(accuracies):\n",
    "        entry.append((model_name,fold_index,accuracy))\n",
    "    cv_tfidf=pd.DataFrame(entry, columns=['model name','fold_idx','accuracy'])\n",
    "\n",
    "plt.figure(figsize=(9,6))\n",
    "sns.boxplot(x='model name',y='accuracy',data=cv_tfidf)\n",
    "sns.stripplot(x='model name',y='accuracy',data=cv_tfidf,\n",
    "             size=9, jitter=True, edgecolor=\"gray\",linewidth=3)\n",
    "\n",
    "plt.show()\n",
    "cv_tfidf.groupby('model name').accuracy.mean() # The accuracy mean of those models"
   ]
  },
  {
   "cell_type": "markdown",
   "metadata": {},
   "source": [
    "### `Question | Model Selection | SVM vs Naive Bayes `"
   ]
  },
  {
   "cell_type": "code",
   "execution_count": 396,
   "metadata": {},
   "outputs": [
    {
     "data": {
      "image/png": "[encoded data removed]",
      "text/plain": [
       "<Figure size 648x432 with 1 Axes>"
      ]
     },
     "metadata": {
      "needs_background": "light"
     },
     "output_type": "display_data"
    },
    {
     "data": {
      "text/plain": [
       "model name\n",
       "MultinomialNB    0.796263\n",
       "SGDClassifier    0.869911\n",
       "Name: accuracy, dtype: float64"
      ]
     },
     "execution_count": 396,
     "metadata": {},
     "output_type": "execute_result"
    }
   ],
   "source": [
    "# resampled_train_answer, resampled_train_answer_labels\n",
    "# Set up\n",
    "models = [mnb, svm]\n",
    "cross_validation = 5 # 5-fold cross validation\n",
    "cv_tfidf = pd.DataFrame(index=range(cross_validation*len(models)))\n",
    "entry = []\n",
    "for model in models:\n",
    "    model_name = model.__class__.__name__\n",
    "    accuracies = cross_val_score(model,resampled_train_answer,resampled_train_answer_labels,scoring='accuracy',cv=cross_validation)\n",
    "    for fold_index, accuracy in enumerate(accuracies):\n",
    "        entry.append((model_name,fold_index,accuracy))\n",
    "    cv_tfidf=pd.DataFrame(entry, columns=['model name','fold_idx','accuracy'])\n",
    "\n",
    "plt.figure(figsize=(9,6))\n",
    "sns.boxplot(x='model name',y='accuracy',data=cv_tfidf)\n",
    "sns.stripplot(x='model name',y='accuracy',data=cv_tfidf,\n",
    "             size=9, jitter=True, edgecolor=\"gray\",linewidth=3)\n",
    "\n",
    "plt.show()\n",
    "cv_tfidf.groupby('model name').accuracy.mean() # The accuracy mean of those models"
   ]
  },
  {
   "cell_type": "markdown",
   "metadata": {},
   "source": [
    "## `Discussion`\n",
    "\n",
    "- SVM did better than Naive Bayes on the training test for both Question and Answer classification\n",
    "- The accuracy rate of **SVM** on question type classification is **89.298%** while accuracy rate of **Naive Bayes** is **88.008%** \n",
    "- The accuracy rate of **SVM** on answer type classification is **87.361%** while accuracy rate of **Naive Bayes** is **80.574%** \n",
    "- Therefore, **Support Vector Machine** perform **better**"
   ]
  },
  {
   "cell_type": "markdown",
   "metadata": {},
   "source": [
    "## Step 7: Model Evaluation"
   ]
  },
  {
   "cell_type": "markdown",
   "metadata": {},
   "source": [
    "### `Question`"
   ]
  },
  {
   "cell_type": "code",
   "execution_count": 43,
   "metadata": {},
   "outputs": [
    {
     "name": "stdout",
     "output_type": "stream",
     "text": [
      "Accuracy: 0.50822\n",
      "Precision: 0.48656\n",
      "Recall: 0.50822\n",
      "F1 Score: 0.49166\n"
     ]
    }
   ],
   "source": [
    "# Question: Support Vector Machine | TFIDF\n",
    "# resampled_train_question, resampled_train_question_labels\n",
    "svmq_predictions = train_predict_evaluate_model(classifier=svm,\n",
    "                                                 train_features=resampled_train_question,\n",
    "                                                 train_labels=resampled_train_question_labels,\n",
    "                                                 test_features=tfidf_test_question,\n",
    "                                                 test_labels=test_question_id)"
   ]
  },
  {
   "cell_type": "code",
   "execution_count": 439,
   "metadata": {},
   "outputs": [
    {
     "data": {
      "text/plain": [
       "1216"
      ]
     },
     "execution_count": 439,
     "metadata": {},
     "output_type": "execute_result"
    }
   ],
   "source": [
    "len(test_question_id)"
   ]
  },
  {
   "cell_type": "markdown",
   "metadata": {},
   "source": [
    "### `Confusion Matrix | Question`"
   ]
  },
  {
   "cell_type": "code",
   "execution_count": 55,
   "metadata": {},
   "outputs": [
    {
     "data": {
      "image/png": "[encoded data removed]",
      "text/plain": [
       "<Figure size 648x504 with 2 Axes>"
      ]
     },
     "metadata": {
      "needs_background": "light"
     },
     "output_type": "display_data"
    }
   ],
   "source": [
    "# create a confusion matrix\n",
    "cm_q = metrics.confusion_matrix(test_question_id, svmq_predictions)\n",
    "\n",
    "# Visualization the confusion matrix\n",
    "plt.subplots(figsize=(9,7))\n",
    "sns.heatmap(cm_q, annot=True, fmt=\"d\",\n",
    "            xticklabels=question_id_df.question_target_mix.values,\n",
    "            yticklabels=question_id_df.question_target_mix.values)\n",
    "plt.ylabel('Actual')\n",
    "plt.xlabel('Predicted')\n",
    "plt.show()"
   ]
  },
  {
   "cell_type": "code",
   "execution_count": 45,
   "metadata": {},
   "outputs": [
    {
     "name": "stdout",
     "output_type": "stream",
     "text": [
      "[[348  56  15  14   1   0   0  15   0   0]\n",
      " [110  63  41  41  13   4   8   5   0   0]\n",
      " [ 31  31  61  14   2   3   2   2   1   0]\n",
      " [ 48  28  23 117   1   2   6   3   0   2]\n",
      " [  6  11   4   8  11   1   0   0   0   0]\n",
      " [  0   2   1   3   1   8   0   1   0   0]\n",
      " [  3   5   1   3   0   0   5   0   0   0]\n",
      " [ 15   4   1   3   2   0   0   4   0   0]\n",
      " [  0   0   0   0   0   0   0   0   0   0]\n",
      " [  0   1   0   0   0   0   0   0   0   1]]\n"
     ]
    }
   ],
   "source": [
    "print(cm_q)"
   ]
  },
  {
   "cell_type": "code",
   "execution_count": 46,
   "metadata": {},
   "outputs": [
    {
     "data": {
      "text/plain": [
       "array([0, 1, 4, 7, 3, 2, 6, 9, 5], dtype=int64)"
      ]
     },
     "execution_count": 46,
     "metadata": {},
     "output_type": "execute_result"
    }
   ],
   "source": [
    "test_question_id.unique()"
   ]
  },
  {
   "cell_type": "code",
   "execution_count": 47,
   "metadata": {},
   "outputs": [],
   "source": [
    "new_q_df = question_id_df[question_id_df['question_target_mix']!='question_type_spelling']"
   ]
  },
  {
   "cell_type": "code",
   "execution_count": 48,
   "metadata": {},
   "outputs": [
    {
     "name": "stdout",
     "output_type": "stream",
     "text": [
      "                                  precision    recall  f1-score   support\n",
      "\n",
      "      question_type_instructions       0.62      0.78      0.69       449\n",
      "             question_type_mixed       0.31      0.22      0.26       285\n",
      "            question_type_choice       0.41      0.41      0.41       147\n",
      "question_type_reason_explanation       0.58      0.51      0.54       230\n",
      "            question_type_entity       0.35      0.27      0.31        41\n",
      "        question_type_definition       0.44      0.50      0.47        16\n",
      "           question_type_compare       0.24      0.29      0.26        17\n",
      "         question_type_procedure       0.13      0.14      0.14        29\n",
      "          question_type_spelling       0.00      0.00      0.00         0\n",
      "       question_type_consequence       0.33      0.50      0.40         2\n",
      "\n",
      "                        accuracy                           0.51      1216\n",
      "                       macro avg       0.34      0.36      0.35      1216\n",
      "                    weighted avg       0.49      0.51      0.49      1216\n",
      "\n"
     ]
    },
    {
     "name": "stderr",
     "output_type": "stream",
     "text": [
      "C:\\Users\\Jennie\\Anaconda3\\lib\\site-packages\\sklearn\\metrics\\_classification.py:1272: UndefinedMetricWarning: Recall and F-score are ill-defined and being set to 0.0 in labels with no true samples. Use `zero_division` parameter to control this behavior.\n",
      "  _warn_prf(average, modifier, msg_start, len(result))\n"
     ]
    }
   ],
   "source": [
    "# Metrics for each category\n",
    "print(metrics.classification_report(test_question_id, svmq_predictions, target_names=question_id_df.question_target_mix.values))"
   ]
  },
  {
   "cell_type": "markdown",
   "metadata": {},
   "source": [
    "### `Answer`"
   ]
  },
  {
   "cell_type": "code",
   "execution_count": 49,
   "metadata": {},
   "outputs": [
    {
     "name": "stdout",
     "output_type": "stream",
     "text": [
      "Accuracy: 0.61184\n",
      "Precision: 0.56622\n",
      "Recall: 0.61184\n",
      "F1 Score: 0.55867\n"
     ]
    }
   ],
   "source": [
    "# Answer: Support Vector Machine | TFIDF\n",
    "# resampled_train_answer, resampled_train_answer_labels\n",
    "svma_predictions = train_predict_evaluate_model(classifier=svm,\n",
    "                                                 train_features=resampled_train_answer,\n",
    "                                                 train_labels=resampled_train_answer_labels,\n",
    "                                                 test_features=tfidf_test_answer,\n",
    "                                                 test_labels=test_answer_id)"
   ]
  },
  {
   "cell_type": "code",
   "execution_count": 58,
   "metadata": {},
   "outputs": [
    {
     "data": {
      "image/png": "[encoded data removed]",
      "text/plain": [
       "<Figure size 648x504 with 2 Axes>"
      ]
     },
     "metadata": {
      "needs_background": "light"
     },
     "output_type": "display_data"
    }
   ],
   "source": [
    "# create a confusion matrix\n",
    "cm_a = metrics.confusion_matrix(test_answer_id, svma_predictions)\n",
    "\n",
    "# Visualization the confusion matrix\n",
    "fig, ax=plt.subplots(figsize=(9,7))\n",
    "sns.heatmap(cm_a, annot=True,fmt=\"d\",linewidths=.5, ax=ax,\n",
    "           xticklabels=answer_id_df.answer_target_mix.values,\n",
    "            yticklabels=answer_id_df.answer_target_mix.values)\n",
    "plt.ylabel('Actual')\n",
    "plt.xlabel('Predicted')\n",
    "plt.show()"
   ]
  },
  {
   "cell_type": "code",
   "execution_count": 52,
   "metadata": {},
   "outputs": [
    {
     "name": "stdout",
     "output_type": "stream",
     "text": [
      "                                precision    recall  f1-score   support\n",
      "\n",
      "      answer_type_instructions       0.66      0.75      0.70       461\n",
      "answer_type_reason_explanation       0.62      0.80      0.70       474\n",
      "             answer_type_mixed       0.23      0.07      0.10       243\n",
      "         answer_type_procedure       0.00      0.00      0.00        38\n",
      "\n",
      "                      accuracy                           0.61      1216\n",
      "                     macro avg       0.38      0.41      0.38      1216\n",
      "                  weighted avg       0.53      0.61      0.56      1216\n",
      "\n"
     ]
    },
    {
     "name": "stderr",
     "output_type": "stream",
     "text": [
      "C:\\Users\\Jennie\\Anaconda3\\lib\\site-packages\\sklearn\\metrics\\_classification.py:1272: UndefinedMetricWarning: Precision and F-score are ill-defined and being set to 0.0 in labels with no predicted samples. Use `zero_division` parameter to control this behavior.\n",
      "  _warn_prf(average, modifier, msg_start, len(result))\n"
     ]
    }
   ],
   "source": [
    "# Metrics for each category\n",
    "print(metrics.classification_report(test_answer_id, svma_predictions, target_names=answer_id_df.answer_target_mix.values))"
   ]
  },
  {
   "cell_type": "markdown",
   "metadata": {},
   "source": [
    "\n",
    "\n",
    "## Step 9: Keras | Deep Learning with Tensor Flow | LSTM | TFIDF\n",
    "\n",
    "However, Tensor Flow does not work every well in this case"
   ]
  },
  {
   "cell_type": "code",
   "execution_count": 452,
   "metadata": {},
   "outputs": [],
   "source": [
    "%matplotlib inline\n",
    "import matplotlib.pyplot as plt\n",
    "import numpy as np\n",
    "import pandas as pd\n",
    "import tensorflow as tf\n",
    "\n",
    "from sklearn.preprocessing import LabelBinarizer, LabelEncoder\n",
    "from sklearn.metrics import confusion_matrix\n",
    "\n",
    "from tensorflow import keras\n",
    "from keras.models import Sequential\n",
    "from keras.layers import Dense, Activation, Dropout\n",
    "from keras.preprocessing import text, sequence\n",
    "from keras import utils"
   ]
  },
  {
   "cell_type": "code",
   "execution_count": 453,
   "metadata": {},
   "outputs": [],
   "source": [
    "encoder = LabelEncoder()"
   ]
  },
  {
   "cell_type": "code",
   "execution_count": 478,
   "metadata": {},
   "outputs": [],
   "source": [
    "# Prepare feature for question\n",
    "encoder.fit(train_question_id)\n",
    "y_train = encoder.transform(resampled_train_question_labels)\n",
    "y_test = encoder.transform(test_question_id)\n",
    "y_train = encoder.transform(resampled_train_question_labels)\n",
    "y_test = encoder.transform(test_question_id)\n",
    "\n",
    "num_classes = np.max(y_train)+1\n",
    "y_train = utils.to_categorical(y_train, num_classes) \n",
    "y_test = utils.to_categorical(y_test, num_classes)\n",
    "\n",
    "x_train = resampled_train_question\n",
    "x_test = tfidf_test_question"
   ]
  },
  {
   "cell_type": "code",
   "execution_count": 479,
   "metadata": {},
   "outputs": [],
   "source": [
    "# Prepare feature for answer\n",
    "encoder.fit(train_answer_id)\n",
    "a_train = encoder.transform(resampled_train_answer_labels)\n",
    "a_test = encoder.transform(test_answer_id)\n",
    "a_train = encoder.transform(resampled_train_answer_labels)\n",
    "a_test = encoder.transform(test_answer_id)\n",
    "\n",
    "a_classes = np.max(a_train)+1\n",
    "a_train = utils.to_categorical(a_train, a_classes) \n",
    "a_test =utils.to_categorical(a_test, a_classes) \n",
    "\n",
    "z_train = resampled_train_answer\n",
    "z_test = tfidf_test_answer"
   ]
  },
  {
   "cell_type": "markdown",
   "metadata": {},
   "source": [
    "## `Question | Deep Learning | TensorFlow`"
   ]
  },
  {
   "cell_type": "code",
   "execution_count": 461,
   "metadata": {},
   "outputs": [
    {
     "name": "stdout",
     "output_type": "stream",
     "text": [
      "x_train shape (question train): (17690, 201506)\n",
      "x_test_shape (question test): (1216, 201506)\n",
      "y_train_shape (question labels train): (17690, 10)\n",
      "y_test_shape (question labels test): (1216, 10)\n"
     ]
    }
   ],
   "source": [
    "print('x_train shape (question train):', x_train.shape)\n",
    "print('x_test_shape (question test):',x_test.shape)\n",
    "print('y_train_shape (question labels train):',y_train.shape)\n",
    "print('y_test_shape (question labels test):',y_test.shape)"
   ]
  },
  {
   "cell_type": "code",
   "execution_count": 462,
   "metadata": {},
   "outputs": [],
   "source": [
    "# This model trains very quickly and 2 epochs are already more than enough - however we can still customize\n",
    "# Training for more epochs will likely to lead to overfitting on the dataset\n",
    "from sklearn.utils import class_weight\n",
    "batch_size = 128\n",
    "epochs = 2\n",
    "# Adding class weight since our data are imbalance\n",
    "class_weight = class_weight.compute_class_weight('balanced', np.unique(train_question_labels), train_question_labels)\n",
    "\n",
    "# Build the model \n",
    "model = Sequential()\n",
    "model.add(Dense(512, input_shape=(x_test.shape[1],)))\n",
    "model.add(Activation('relu'))\n",
    "model.add(Dropout(0.5))\n",
    "model.add(Dense(num_classes))\n",
    "model.add(Activation('softmax'))\n",
    "\n",
    "model.compile(loss='categorical_crossentropy',\n",
    "             optimizer='adam',\n",
    "             metrics=['accuracy'])"
   ]
  },
  {
   "cell_type": "code",
   "execution_count": 463,
   "metadata": {},
   "outputs": [
    {
     "name": "stdout",
     "output_type": "stream",
     "text": [
      "Train on 14152 samples, validate on 3538 samples\n",
      "Epoch 1/2\n",
      "14152/14152 [==============================] - 226s 16ms/step - loss: 1.0887 - accuracy: 0.7840 - val_loss: 4.9287 - val_accuracy: 0.0057\n",
      "Epoch 2/2\n",
      "14152/14152 [==============================] - 221s 16ms/step - loss: 0.3131 - accuracy: 0.9129 - val_loss: 3.9644 - val_accuracy: 0.0057\n"
     ]
    }
   ],
   "source": [
    "# model.fit trains the model\n",
    "# The validation_split param tells Keras what % of our training data should be used in validation set\n",
    "# The validation loss decreasing slowly when running this\n",
    "# val_loss is no longer decreasing we stop training to prevent over fitting\n",
    "history = model.fit(x_train, y_train,\n",
    "                   batch_size=batch_size,\n",
    "                   epochs=epochs,\n",
    "                   verbose=1,\n",
    "                    class_weight=class_weight,\n",
    "                   validation_split=0.2)"
   ]
  },
  {
   "cell_type": "code",
   "execution_count": 464,
   "metadata": {},
   "outputs": [
    {
     "name": "stdout",
     "output_type": "stream",
     "text": [
      "1216/1216 [==============================] - 3s 2ms/step\n",
      "Test score: 1.8918496934991134\n",
      "Test accuracy: 0.4819079041481018\n"
     ]
    }
   ],
   "source": [
    "score = model.evaluate(x_test, y_test,\n",
    "                      batch_size=batch_size, verbose=1)\n",
    "print('Test score:', score[0])\n",
    "print('Test accuracy:', score[1])"
   ]
  },
  {
   "cell_type": "code",
   "execution_count": 465,
   "metadata": {},
   "outputs": [],
   "source": [
    "keras_prediction_q = model.predict_classes(x_test)"
   ]
  },
  {
   "cell_type": "code",
   "execution_count": 505,
   "metadata": {},
   "outputs": [],
   "source": [
    "cm_keras_q = metrics.confusion_matrix(test_question_id, keras_prediction_q)"
   ]
  },
  {
   "cell_type": "code",
   "execution_count": 508,
   "metadata": {},
   "outputs": [
    {
     "data": {
      "image/png": "[encoded data removed]",
      "text/plain": [
       "<Figure size 576x360 with 2 Axes>"
      ]
     },
     "metadata": {
      "needs_background": "light"
     },
     "output_type": "display_data"
    }
   ],
   "source": [
    "fig, ax=plt.subplots(figsize=(8,5))\n",
    "sns.heatmap(cm_keras_q, annot=True,fmt=\"d\",linewidths=.5, ax=ax,\n",
    "           xticklabels=question_id_df.question_target_mix.values,\n",
    "            yticklabels=question_id_df.question_target_mix.values)\n",
    "plt.ylabel('Actual')\n",
    "plt.xlabel('Predicted')\n",
    "plt.show()"
   ]
  },
  {
   "cell_type": "code",
   "execution_count": 516,
   "metadata": {},
   "outputs": [
    {
     "name": "stdout",
     "output_type": "stream",
     "text": [
      "                                  precision    recall  f1-score   support\n",
      "\n",
      "      question_type_instructions       0.61      0.71      0.65       440\n",
      "             question_type_mixed       0.30      0.34      0.32       311\n",
      "            question_type_choice       0.49      0.32      0.39       141\n",
      "question_type_reason_explanation       0.56      0.43      0.49       212\n",
      "            question_type_entity       0.50      0.44      0.47        39\n",
      "        question_type_definition       0.58      0.32      0.41        22\n",
      "           question_type_compare       0.15      0.21      0.18        14\n",
      "         question_type_procedure       0.14      0.11      0.12        35\n",
      "       question_type_consequence       0.00      0.00      0.00         2\n",
      "\n",
      "                        accuracy                           0.48      1216\n",
      "                       macro avg       0.37      0.32      0.34      1216\n",
      "                    weighted avg       0.48      0.48      0.48      1216\n",
      "\n"
     ]
    }
   ],
   "source": [
    "df_new = question_id_df[question_id_df.question_target_mix != 'question_type_spelling']\n",
    "print(metrics.classification_report(test_question_id, keras_prediction_q, target_names=df_new.question_target_mix.values))"
   ]
  },
  {
   "cell_type": "code",
   "execution_count": 514,
   "metadata": {},
   "outputs": [
    {
     "data": {
      "text/html": [
       "<div>\n",
       "<style scoped>\n",
       "    .dataframe tbody tr th:only-of-type {\n",
       "        vertical-align: middle;\n",
       "    }\n",
       "\n",
       "    .dataframe tbody tr th {\n",
       "        vertical-align: top;\n",
       "    }\n",
       "\n",
       "    .dataframe thead th {\n",
       "        text-align: right;\n",
       "    }\n",
       "</style>\n",
       "<table border=\"1\" class=\"dataframe\">\n",
       "  <thead>\n",
       "    <tr style=\"text-align: right;\">\n",
       "      <th></th>\n",
       "      <th>question_target_mix</th>\n",
       "      <th>question_id</th>\n",
       "    </tr>\n",
       "  </thead>\n",
       "  <tbody>\n",
       "    <tr>\n",
       "      <td>0</td>\n",
       "      <td>question_type_instructions</td>\n",
       "      <td>0</td>\n",
       "    </tr>\n",
       "    <tr>\n",
       "      <td>1</td>\n",
       "      <td>question_type_mixed</td>\n",
       "      <td>1</td>\n",
       "    </tr>\n",
       "    <tr>\n",
       "      <td>3</td>\n",
       "      <td>question_type_choice</td>\n",
       "      <td>2</td>\n",
       "    </tr>\n",
       "    <tr>\n",
       "      <td>13</td>\n",
       "      <td>question_type_reason_explanation</td>\n",
       "      <td>3</td>\n",
       "    </tr>\n",
       "    <tr>\n",
       "      <td>15</td>\n",
       "      <td>question_type_entity</td>\n",
       "      <td>4</td>\n",
       "    </tr>\n",
       "    <tr>\n",
       "      <td>28</td>\n",
       "      <td>question_type_definition</td>\n",
       "      <td>5</td>\n",
       "    </tr>\n",
       "    <tr>\n",
       "      <td>39</td>\n",
       "      <td>question_type_compare</td>\n",
       "      <td>6</td>\n",
       "    </tr>\n",
       "    <tr>\n",
       "      <td>76</td>\n",
       "      <td>question_type_procedure</td>\n",
       "      <td>7</td>\n",
       "    </tr>\n",
       "    <tr>\n",
       "      <td>362</td>\n",
       "      <td>question_type_spelling</td>\n",
       "      <td>8</td>\n",
       "    </tr>\n",
       "    <tr>\n",
       "      <td>415</td>\n",
       "      <td>question_type_consequence</td>\n",
       "      <td>9</td>\n",
       "    </tr>\n",
       "  </tbody>\n",
       "</table>\n",
       "</div>"
      ],
      "text/plain": [
       "                  question_target_mix  question_id\n",
       "0          question_type_instructions            0\n",
       "1                 question_type_mixed            1\n",
       "3                question_type_choice            2\n",
       "13   question_type_reason_explanation            3\n",
       "15               question_type_entity            4\n",
       "28           question_type_definition            5\n",
       "39              question_type_compare            6\n",
       "76            question_type_procedure            7\n",
       "362            question_type_spelling            8\n",
       "415         question_type_consequence            9"
      ]
     },
     "execution_count": 514,
     "metadata": {},
     "output_type": "execute_result"
    }
   ],
   "source": [
    "question_id_df"
   ]
  },
  {
   "cell_type": "markdown",
   "metadata": {},
   "source": [
    "## `Answer | Deep Learning | Tensorflow`"
   ]
  },
  {
   "cell_type": "code",
   "execution_count": 481,
   "metadata": {},
   "outputs": [
    {
     "name": "stdout",
     "output_type": "stream",
     "text": [
      "a_train shape (answer train): (7848, 317510)\n",
      "a_test_shape (answer test): (1216, 317510)\n",
      "z_train_shape (answer labels train): (7848, 4)\n",
      "z_test_shape (answer labels test): (1216, 4)\n"
     ]
    }
   ],
   "source": [
    "print('a_train shape (answer train):', z_train.shape)\n",
    "print('a_test_shape (answer test):',z_test.shape)\n",
    "print('z_train_shape (answer labels train):',a_train.shape)\n",
    "print('z_test_shape (answer labels test):',a_test.shape)"
   ]
  },
  {
   "cell_type": "code",
   "execution_count": 497,
   "metadata": {},
   "outputs": [],
   "source": [
    "# This model trains very quickly and 2 epochs are already more than enough - however we can still customize\n",
    "# Training for more epochs will likely to lead to overfitting on the dataset\n",
    "from sklearn.utils import class_weight\n",
    "batch_size = 128\n",
    "epochs = 2\n",
    "# Adding class weight since our data are imbalance\n",
    "class_weight = class_weight.compute_class_weight('balanced', np.unique(train_answer_labels), train_answer_labels)\n",
    "\n",
    "# Build the model \n",
    "model_a = Sequential()\n",
    "model_a.add(Dense(512, input_shape=(z_test.shape[1],)))\n",
    "model_a.add(Activation('relu'))\n",
    "model_a.add(Dropout(0.5))\n",
    "model_a.add(Dense(a_classes))\n",
    "model_a.add(Activation('softmax'))\n",
    "\n",
    "model_a.compile(loss='categorical_crossentropy',\n",
    "             optimizer='adam',\n",
    "             metrics=['accuracy'])"
   ]
  },
  {
   "cell_type": "code",
   "execution_count": 498,
   "metadata": {},
   "outputs": [
    {
     "name": "stdout",
     "output_type": "stream",
     "text": [
      "Train on 6278 samples, validate on 1570 samples\n",
      "Epoch 1/2\n",
      "6278/6278 [==============================] - 177s 28ms/step - loss: 1.1557 - accuracy: 0.6313 - val_loss: 1.4674 - val_accuracy: 0.3490\n",
      "Epoch 2/2\n",
      "6278/6278 [==============================] - 155s 25ms/step - loss: 0.4138 - accuracy: 0.9457 - val_loss: 0.2256 - val_accuracy: 0.9694\n"
     ]
    }
   ],
   "source": [
    "history_a = model_a.fit(z_train, a_train,\n",
    "                   batch_size=batch_size,\n",
    "                   epochs=epochs,\n",
    "                   verbose=1,\n",
    "                   class_weight=class_weight,\n",
    "                   validation_split=0.2)"
   ]
  },
  {
   "cell_type": "code",
   "execution_count": 500,
   "metadata": {},
   "outputs": [
    {
     "name": "stdout",
     "output_type": "stream",
     "text": [
      "1216/1216 [==============================] - 5s 4ms/step\n",
      "Test score: 1.021976677994979\n",
      "Test accuracy: 0.6389802694320679\n"
     ]
    }
   ],
   "source": [
    "# Evaluate accuracy on testing set\n",
    "score = model_a.evaluate(z_test, a_test,\n",
    "                      batch_size=batch_size, verbose=1)\n",
    "print('Test score:', score[0])\n",
    "print('Test accuracy:', score[1])"
   ]
  },
  {
   "cell_type": "code",
   "execution_count": 512,
   "metadata": {},
   "outputs": [
    {
     "data": {
      "image/png": "[encoded data removed]",
      "text/plain": [
       "<Figure size 576x360 with 2 Axes>"
      ]
     },
     "metadata": {
      "needs_background": "light"
     },
     "output_type": "display_data"
    }
   ],
   "source": [
    "keras_prediction_a = model_a.predict_classes(z_test)\n",
    "cm_keras_a = metrics.confusion_matrix(test_answer_id,keras_prediction_a)\n",
    "fig, ax=plt.subplots(figsize=(8,5))\n",
    "sns.heatmap(cm_keras_a, annot=True,fmt=\"d\",linewidths=.5, ax=ax,\n",
    "           xticklabels=answer_id_df.answer_target_mix.values,\n",
    "            yticklabels=answer_id_df.answer_target_mix.values)\n",
    "plt.ylabel('Actual')\n",
    "plt.xlabel('Predicted')\n",
    "plt.show()"
   ]
  },
  {
   "cell_type": "code",
   "execution_count": 519,
   "metadata": {},
   "outputs": [
    {
     "name": "stdout",
     "output_type": "stream",
     "text": [
      "                                precision    recall  f1-score   support\n",
      "\n",
      "      answer_type_instructions       0.68      0.76      0.71       475\n",
      "answer_type_reason_explanation       0.62      0.85      0.72       486\n",
      "             answer_type_mixed       0.20      0.02      0.03       219\n",
      "         answer_type_procedure       0.00      0.00      0.00        36\n",
      "\n",
      "                      accuracy                           0.64      1216\n",
      "                     macro avg       0.37      0.41      0.37      1216\n",
      "                  weighted avg       0.55      0.64      0.57      1216\n",
      "\n"
     ]
    }
   ],
   "source": [
    "print(metrics.classification_report(test_answer_id, keras_prediction_a, target_names=answer_id_df.answer_target_mix.values))"
   ]
  },
  {
   "cell_type": "markdown",
   "metadata": {},
   "source": [
    "## `Tokenization`"
   ]
  },
  {
   "cell_type": "code",
   "execution_count": 585,
   "metadata": {},
   "outputs": [],
   "source": [
    "\n",
    "tokenize = text.Tokenizer(\n",
    "                          lower=True,\n",
    "                          filters='!\"#$%&()*+,-./:;<=>?@[\\\\]^_`{|}~\\t\\n',\n",
    "                          split=' ',\n",
    "                          char_level=False)"
   ]
  },
  {
   "cell_type": "code",
   "execution_count": 586,
   "metadata": {},
   "outputs": [],
   "source": [
    "tokenize.fit_on_texts(train_answer) # only fit on train\n",
    "x_train = tokenize.texts_to_matrix(train_answer)\n",
    "x_test = tokenize.texts_to_matrix(test_answer)"
   ]
  },
  {
   "cell_type": "code",
   "execution_count": null,
   "metadata": {},
   "outputs": [],
   "source": []
  },
  {
   "cell_type": "code",
   "execution_count": 587,
   "metadata": {},
   "outputs": [],
   "source": [
    "encoder=LabelEncoder()\n",
    "encoder.fit(train_answer_id)\n",
    "y_train = encoder.transform(train_answer_id)\n",
    "y_test = encoder.transform(test_answer_id)"
   ]
  },
  {
   "cell_type": "code",
   "execution_count": 588,
   "metadata": {},
   "outputs": [],
   "source": [
    "num_classes=np.max(y_train) + 1\n",
    "y_train = utils.to_categorical(y_train, num_classes) \n",
    "y_test = utils.to_categorical(y_test, num_classes)"
   ]
  },
  {
   "cell_type": "code",
   "execution_count": 589,
   "metadata": {},
   "outputs": [
    {
     "name": "stdout",
     "output_type": "stream",
     "text": [
      "x_train shape (question train): (4863, 32921)\n",
      "x_test_shape (question test): (1216, 32921)\n",
      "y_train_shape (question labels train): (4863, 4)\n",
      "y_test_shape (question labels test): (1216, 4)\n"
     ]
    }
   ],
   "source": [
    "print('x_train shape (question train):', x_train.shape)\n",
    "print('x_test_shape (question test):',x_test.shape)\n",
    "print('y_train_shape (question labels train):',y_train.shape)\n",
    "print('y_test_shape (question labels test):',y_test.shape)"
   ]
  },
  {
   "cell_type": "code",
   "execution_count": 590,
   "metadata": {},
   "outputs": [],
   "source": [
    "batch_size = 58\n",
    "epochs = 5\n",
    "\n",
    "# Build the model \n",
    "model2 = Sequential()\n",
    "model2.add(Dense(512, input_shape=(x_train.shape[1],)))\n",
    "model2.add(Activation('relu'))\n",
    "model2.add(Dropout(0.5))\n",
    "model2.add(Dense(num_classes))\n",
    "model2.add(Activation('softmax'))\n",
    "\n",
    "model2.compile(loss='categorical_crossentropy',\n",
    "             optimizer='adam',\n",
    "             metrics=['accuracy'])"
   ]
  },
  {
   "cell_type": "code",
   "execution_count": 591,
   "metadata": {},
   "outputs": [
    {
     "name": "stdout",
     "output_type": "stream",
     "text": [
      "Train on 4376 samples, validate on 487 samples\n",
      "Epoch 1/5\n",
      "4376/4376 [==============================] - 18s 4ms/step - loss: 1.0644 - accuracy: 0.5948 - val_loss: 0.9515 - val_accuracy: 0.6386\n",
      "Epoch 2/5\n",
      "4376/4376 [==============================] - 19s 4ms/step - loss: 0.5951 - accuracy: 0.7973 - val_loss: 1.0222 - val_accuracy: 0.6119\n",
      "Epoch 3/5\n",
      "4376/4376 [==============================] - 18s 4ms/step - loss: 0.2766 - accuracy: 0.9250 - val_loss: 1.1175 - val_accuracy: 0.5955\n",
      "Epoch 4/5\n",
      "4376/4376 [==============================] - 25s 6ms/step - loss: 0.1115 - accuracy: 0.9835 - val_loss: 1.2674 - val_accuracy: 0.6057\n",
      "Epoch 5/5\n",
      "4376/4376 [==============================] - 19s 4ms/step - loss: 0.0487 - accuracy: 0.9973 - val_loss: 1.4043 - val_accuracy: 0.6016\n"
     ]
    }
   ],
   "source": [
    "history = model2.fit(x_train, y_train,\n",
    "                   batch_size=batch_size,\n",
    "                   epochs=epochs,\n",
    "                   verbose=1,\n",
    "                   validation_split=0.1)"
   ]
  },
  {
   "cell_type": "code",
   "execution_count": 592,
   "metadata": {},
   "outputs": [
    {
     "name": "stdout",
     "output_type": "stream",
     "text": [
      "1216/1216 [==============================] - 1s 623us/step\n",
      "Test score: 1.574317210402928\n",
      "Test accuracy: 0.5904605388641357\n"
     ]
    }
   ],
   "source": [
    "score = model2.evaluate(x_test, y_test,\n",
    "                      batch_size=batch_size, verbose=1)\n",
    "print('Test score:', score[0])\n",
    "print('Test accuracy:', score[1])"
   ]
  },
  {
   "cell_type": "markdown",
   "metadata": {},
   "source": [
    "## Conclusion\n",
    "\n",
    "- **LSTM** did the best with **TFIDF** when classifying answer type\n",
    "- **SVM** did the best with **TFIDF** when classifying question type\n",
    "\n",
    "There are multiple limitation in our project. First of all, our data set are extremly imbalanced between classes, which is a big challenge when dealing with multi-classification problem. Secondly, we don't have the dictionary for TYPE classification. For instance, sentiment would have dictionary for the topic. \n",
    "\n",
    "For model improvement in the future, we might try part of speech as another feature to improve the model\n",
    "\n",
    "## Appendix\n",
    "\n",
    "This section contains some information about the Bayes Net that we haven't try yet"
   ]
  },
  {
   "cell_type": "markdown",
   "metadata": {},
   "source": [
    "# Bayes Net\n",
    "- **Did not perform as well as SVM**"
   ]
  },
  {
   "cell_type": "markdown",
   "metadata": {},
   "source": [
    "### `Question`"
   ]
  },
  {
   "cell_type": "code",
   "execution_count": 152,
   "metadata": {},
   "outputs": [
    {
     "name": "stdout",
     "output_type": "stream",
     "text": [
      "Accuracy: 0.4227\n",
      "Precision: 0.51873\n",
      "Recall: 0.4227\n",
      "F1 Score: 0.32633\n"
     ]
    }
   ],
   "source": [
    "# Bayes Net | Question | TFIDF | Not over sampling\n",
    "mnb_bow_predictions = train_predict_evaluate_model(classifier=mnb,\n",
    "                                                 train_features=tfidf_train_question,\n",
    "                                                 train_labels=train_question_labels,\n",
    "                                                 test_features=tfidf_test_question,\n",
    "                                                 test_labels=test_question_labels)"
   ]
  },
  {
   "cell_type": "code",
   "execution_count": 156,
   "metadata": {},
   "outputs": [
    {
     "name": "stdout",
     "output_type": "stream",
     "text": [
      "Accuracy: 0.47039\n",
      "Precision: 0.47353\n",
      "Recall: 0.47039\n",
      "F1 Score: 0.46707\n"
     ]
    }
   ],
   "source": [
    "mnb_bow_predictions = train_predict_evaluate_model(classifier=mnb,\n",
    "                                                 train_features=resampled_train_question,\n",
    "                                                 train_labels=resampled_train_question_labels,\n",
    "                                                 test_features=tfidf_test_question,\n",
    "                                                 test_labels=test_question_labels)"
   ]
  },
  {
   "cell_type": "markdown",
   "metadata": {},
   "source": [
    "### ` Answer`"
   ]
  },
  {
   "cell_type": "code",
   "execution_count": 153,
   "metadata": {},
   "outputs": [
    {
     "name": "stdout",
     "output_type": "stream",
     "text": [
      "Accuracy: 0.60855\n",
      "Precision: 0.71635\n",
      "Recall: 0.60855\n",
      "F1 Score: 0.52908\n"
     ]
    }
   ],
   "source": [
    "# Bayes Net | Answer | TFIDF | Not over sampling\n",
    "mnb_bow_predictions = train_predict_evaluate_model(classifier=mnb,\n",
    "                                                 train_features=tfidf_train_answer,\n",
    "                                                 train_labels=train_answer_labels,\n",
    "                                                 test_features=tfidf_test_answer,\n",
    "                                                 test_labels=test_answer_labels)"
   ]
  },
  {
   "cell_type": "markdown",
   "metadata": {},
   "source": [
    "### Apply Over-sampling Features \n",
    "\n",
    "With BayesNet the accuracy rate decreases"
   ]
  },
  {
   "cell_type": "code",
   "execution_count": 154,
   "metadata": {},
   "outputs": [
    {
     "name": "stdout",
     "output_type": "stream",
     "text": [
      "Accuracy: 0.55592\n",
      "Precision: 0.56986\n",
      "Recall: 0.55592\n",
      "F1 Score: 0.55414\n"
     ]
    }
   ],
   "source": [
    "# Answer: Support Vector Machine | TFIDF\n",
    "mnb_bow_predictions = train_predict_evaluate_model(classifier=mnb,\n",
    "                                                 train_features=resampled_train_answer,\n",
    "                                                 train_labels=resampled_train_answer_labels,\n",
    "                                                 test_features=tfidf_test_answer,\n",
    "                                                 test_labels=test_answer_labels)"
   ]
  },
  {
   "cell_type": "markdown",
   "metadata": {},
   "source": [
    "### `Question`"
   ]
  },
  {
   "cell_type": "markdown",
   "metadata": {},
   "source": [
    "### Over Sampling"
   ]
  },
  {
   "cell_type": "markdown",
   "metadata": {},
   "source": [
    "### `Answer`"
   ]
  },
  {
   "cell_type": "code",
   "execution_count": 244,
   "metadata": {},
   "outputs": [
    {
     "name": "stdout",
     "output_type": "stream",
     "text": [
      "Accuracy: 0.62582\n",
      "Precision: 0.59449\n",
      "Recall: 0.62582\n",
      "F1 Score: 0.5859\n"
     ]
    }
   ],
   "source": [
    "# Neural network | Answer | TFIDF | Not over sampling\n",
    "dnns_bow_predictions = train_predict_evaluate_model(classifier=dnns_classifier,\n",
    "                                                 train_features=tfidf_train_answer,\n",
    "                                                 train_labels=train_answer_labels,\n",
    "                                                 test_features=tfidf_test_answer,\n",
    "                                                 test_labels=test_answer_labels)"
   ]
  },
  {
   "cell_type": "markdown",
   "metadata": {},
   "source": [
    "### Over Sampling"
   ]
  },
  {
   "cell_type": "code",
   "execution_count": 247,
   "metadata": {},
   "outputs": [
    {
     "name": "stdout",
     "output_type": "stream",
     "text": [
      "Accuracy: 0.62336\n",
      "Precision: 0.59512\n",
      "Recall: 0.62336\n",
      "F1 Score: 0.58716\n"
     ]
    }
   ],
   "source": [
    "# Neural Network | Answer | TFIDF | Not over sampling\n",
    "dnns_bow_predictions = train_predict_evaluate_model(classifier=dnns_classifier,\n",
    "                                                 train_features=resampled_train_answer,\n",
    "                                                 train_labels=resampled_train_answer_labels,\n",
    "                                                 test_features=tfidf_test_answer,\n",
    "                                                 test_labels=test_answer_labels)"
   ]
  },
  {
   "cell_type": "code",
   "execution_count": null,
   "metadata": {},
   "outputs": [],
   "source": []
  }
 ],
 "metadata": {
  "kernelspec": {
   "display_name": "Python 3",
   "language": "python",
   "name": "python3"
  },
  "language_info": {
   "codemirror_mode": {
    "name": "ipython",
    "version": 3
   },
   "file_extension": ".py",
   "mimetype": "text/x-python",
   "name": "python",
   "nbconvert_exporter": "python",
   "pygments_lexer": "ipython3",
   "version": "3.7.6"
  }
 },
 "nbformat": 4,
 "nbformat_minor": 2
}
